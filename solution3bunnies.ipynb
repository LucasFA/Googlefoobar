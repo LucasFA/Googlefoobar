{
 "cells": [
  {
   "cell_type": "code",
   "execution_count": 1,
   "metadata": {},
   "outputs": [],
   "source": [
    "import heapq\n",
    "from collections import defaultdict\n",
    "from itertools import ifilter\n",
    "\n",
    "def h(map, location):\n",
    "    \"\"\" Heuristic function for A*. It is admissible and monotonic. \"\"\"\n",
    "    return abs(location[0] - map.end[0]) + abs(location[1] - map.end[1])"
   ]
  },
  {
   "cell_type": "code",
   "execution_count": 2,
   "metadata": {},
   "outputs": [],
   "source": [
    "class Map:\n",
    "    def __init__(self, map):\n",
    "        self.rows = len(map)\n",
    "        self.cols = len(map[0])\n",
    "        self.start = (0, 0)\n",
    "        self.end = (self.rows - 1, self.cols - 1)\n",
    "        self.passable = [[True if map[row][col] == 0 else False for col in range(self.cols)] for row in range(self.rows)]\n",
    "        self.g_score = defaultdict(lambda: float(\"inf\"))\n",
    "        self.g_score[self.start] = 1\n",
    "\n",
    "        self.f_score = defaultdict(lambda: float(\"inf\"))\n",
    "        self.f_score[self.start] = self.g_score[self.start] + h(self, self.start)\n",
    "\n",
    "        self.modified = None # location of the modified cell, if any\n",
    "\n",
    "    def locations(self):\n",
    "        \"\"\" Iterates over the locations in the map\"\"\"\n",
    "        for row in range(self.rows):\n",
    "            for col in range(self.cols):\n",
    "                yield (row, col)\n",
    "\n",
    "    def modify(self, location, value):\n",
    "        self.modified = location\n",
    "        self.passable[location[0]][location[1]] = value\n",
    "        cost_of_changed = self.g_score[location]\n",
    "        self.g_score[location] = float(\"inf\")\n",
    "        self.f_score[location] = float(\"inf\")\n",
    "        \n",
    "        farther_locations = ifilter(lambda loc: self.g_score[loc] >= cost_of_changed, self.locations())\n",
    "        for loc in farther_locations:\n",
    "            self.g_score[loc] = float(\"inf\")\n",
    "            self.f_score[loc] = float(\"inf\")\n",
    "\n",
    "    def get_neighbours(self, loc):\n",
    "        \"\"\" Return a list of neighbors for a given location \"\"\"\n",
    "        neighbours = []\n",
    "        if loc[0] > 0:\n",
    "            neighbours.append((loc[0] - 1, loc[1]))\n",
    "        if loc[0] < self.rows - 1:\n",
    "            neighbours.append((loc[0] + 1, loc[1]))\n",
    "        if loc[1] > 0:\n",
    "            neighbours.append((loc[0], loc[1] - 1))\n",
    "        if loc[1] < self.cols - 1:\n",
    "            neighbours.append((loc[0], loc[1] + 1))\n",
    "        return neighbours\n",
    "\n",
    "    def get_passable_neighbours(self, location):\n",
    "        neigh = self.get_neighbours(location)\n",
    "        return filter(lambda loc: self.passable[loc[0]][loc[1]], neigh)\n",
    "        \n",
    "    def A_star(self):\n",
    "        # I literally just implemented the pseudocode from wikipedia, using heapq and tried keeping scores where possible after a call to the self.modify method, to avoid startint from scratch\n",
    "        open_set = []\n",
    "        if self.modified is None:\n",
    "            heapq.heappush(open_set, (self.f_score[self.start], self.start))\n",
    "        else:\n",
    "            heapq.heappush(open_set, (self.f_score[self.modified], self.modified))\n",
    "        \n",
    "        # if it was previously calculated it should be re-explored, but only if interesting.\n",
    "        for location in self.locations():\n",
    "            if self.f_score[location] != float(\"inf\"):\n",
    "                heapq.heappush(open_set, (self.f_score[location], location))\n",
    "\n",
    "        while open_set:\n",
    "            _, current_loc = heapq.heappop(open_set)\n",
    "            if current_loc == self.end:\n",
    "                return self.g_score[current_loc]\n",
    "            for neighbor_loc in self.get_passable_neighbours(current_loc):\n",
    "                tentative_g_score = self.g_score[current_loc] + 1\n",
    "                if tentative_g_score < self.g_score[neighbor_loc]:\n",
    "                    self.g_score[neighbor_loc] = tentative_g_score\n",
    "                    self.f_score[neighbor_loc] = self.g_score[neighbor_loc] + h(self, neighbor_loc)\n",
    "                    entry = (self.f_score[neighbor_loc], neighbor_loc)\n",
    "                    if entry not in open_set:\n",
    "                        heapq.heappush(open_set, entry)\n",
    "        # No path found\n",
    "        return float(\"inf\")"
   ]
  },
  {
   "cell_type": "code",
   "execution_count": 3,
   "metadata": {},
   "outputs": [
    {
     "name": "stdout",
     "output_type": "stream",
     "text": [
      "Para [[0]]\n",
      "1\n",
      "Para 2\n",
      "3\n",
      "Para 3\n",
      "5\n",
      "Para [[0, 0]]\n",
      "2\n",
      "Es 7\n",
      "7\n",
      "Es 21\n",
      "21\n"
     ]
    }
   ],
   "source": [
    "def test(map):\n",
    "    m = Map(map)\n",
    "    print(m.A_star())\n",
    "print(\"Para [[0]]\")\n",
    "test([[0]])\n",
    "print(\"Para 2\")\n",
    "test([[0, 0], [0, 0]])\n",
    "print(\"Para 3\")\n",
    "test([[0, 0, 0], [0, 0, 0], [0, 0, 0]])\n",
    "print(\"Para [[0, 0]]\")\n",
    "test([[0, 0]])\n",
    "print(\"Es 7\")\n",
    "test([[0, 1, 1, 0], [0, 0, 0, 1], [1, 1, 0, 0], [1, 1, 1, 0]])\n",
    "print(\"Es 21\")\n",
    "test([\n",
    "        [0, 0, 0, 0, 0, 0],\n",
    "        [1, 1, 1, 1, 1, 0], \n",
    "        [0, 0, 0, 0, 0, 0],\n",
    "        [0, 1, 1, 1, 1, 1],\n",
    "        [0, 1, 1, 1, 1, 1],\n",
    "        [0, 0, 0, 0, 0, 0]\n",
    "    ])"
   ]
  },
  {
   "cell_type": "code",
   "execution_count": 4,
   "metadata": {},
   "outputs": [],
   "source": [
    "def is_useful_removal(location, map):\n",
    "    \"\"\" Does making this cell passable create a path or just a dead end? \"\"\"\n",
    "    if map.passable[location[0]][location[1]]:\n",
    "        return False\n",
    "    passable_neighbours = map.get_passable_neighbours(location)\n",
    "    if len(passable_neighbours) <= 1:\n",
    "        return False\n",
    "    return True\n",
    "\n",
    "def useful_removals(map):\n",
    "    useful_removals = ifilter(lambda loc: is_useful_removal(loc, map), map.locations())\n",
    "    return useful_removals"
   ]
  },
  {
   "cell_type": "code",
   "execution_count": 5,
   "metadata": {},
   "outputs": [],
   "source": [
    "def solution(map):\n",
    "    m = Map(map)\n",
    "    current_min_length = float(\"inf\")\n",
    "\n",
    "    for removed_cell in useful_removals(m):\n",
    "        m.modify(removed_cell, True)\n",
    "        current_length = m.A_star()\n",
    "        if current_length < current_min_length:\n",
    "            current_min_length = current_length\n",
    "        m.modify(removed_cell, False)\n",
    "    return current_min_length"
   ]
  },
  {
   "cell_type": "code",
   "execution_count": 9,
   "metadata": {},
   "outputs": [
    {
     "name": "stdout",
     "output_type": "stream",
     "text": [
      "Es 7\n",
      "7\n",
      "Es 11\n",
      "11\n",
      "Es 22\n",
      "22\n"
     ]
    }
   ],
   "source": [
    "# %%timeit\n",
    "print(\"Es 7\")\n",
    "print(solution([\n",
    "        [0, 1, 1, 0],\n",
    "        [0, 0, 0, 1],\n",
    "        [1, 1, 0, 0],\n",
    "        [1, 1, 1, 0]\n",
    "    ]))\n",
    "print(\"Es 11\")\n",
    "print(solution([\n",
    "        [0, 0, 0, 0, 0, 0],\n",
    "        [1, 1, 1, 1, 1, 0], \n",
    "        [0, 0, 0, 0, 0, 0],\n",
    "        [0, 1, 1, 1, 1, 1],\n",
    "        [0, 1, 1, 1, 1, 1],\n",
    "        [0, 0, 0, 0, 0, 0]\n",
    "    ])\n",
    ")\n",
    "print(\"Es 22\")\n",
    "print(solution([\n",
    "        [0, 0, 0, 0, 0, 0],\n",
    "        [1, 1, 1, 1, 1, 0], \n",
    "        [0, 0, 0, 0, 0, 0],\n",
    "        [1, 1, 1, 1, 1, 1], \n",
    "        [0, 1, 1, 1, 1, 1],\n",
    "        [0, 1, 1, 1, 1, 1],\n",
    "        [0, 0, 0, 0, 0, 0]\n",
    "    ])\n",
    ")"
   ]
  },
  {
   "cell_type": "code",
   "execution_count": null,
   "metadata": {},
   "outputs": [],
   "source": []
  }
 ],
 "metadata": {
  "kernelspec": {
   "display_name": "Python 2.7.13 ('Google')",
   "language": "python",
   "name": "python3"
  },
  "language_info": {
   "codemirror_mode": {
    "name": "ipython",
    "version": 2
   },
   "file_extension": ".py",
   "mimetype": "text/x-python",
   "name": "python",
   "nbconvert_exporter": "python",
   "pygments_lexer": "ipython2",
   "version": "2.7.13"
  },
  "orig_nbformat": 4,
  "vscode": {
   "interpreter": {
    "hash": "d62e7cced7d74a8bab4884f7a54ced0fc1f422e38a39fd34859db140bc2d17d7"
   }
  }
 },
 "nbformat": 4,
 "nbformat_minor": 2
}
