{
 "cells": [
  {
   "cell_type": "code",
   "execution_count": 12,
   "metadata": {},
   "outputs": [],
   "source": [
    "def is_useful_removal(location, map):\n",
    "    \"\"\" Does making this cell passable create a path or just a dead end? \"\"\"\n",
    "    if map.passable[location[0]][location[1]]:\n",
    "        return False\n",
    "    neighbours = map.get_passable_neighbours(location)\n",
    "    if len(neighbours) <= 1:\n",
    "        return False\n",
    "    return True\n",
    "\n",
    "def useful_removals(map):\n",
    "    useful_removals = filter(lambda cell: is_useful_removal(cell, map), map)\n",
    "    return useful_removals"
   ]
  },
  {
   "cell_type": "code",
   "execution_count": 13,
   "metadata": {},
   "outputs": [],
   "source": [
    "def h(map, location):\n",
    "    \"\"\" Heuristic function for A* \"\"\"\n",
    "    return abs(location[0] - map.end[0]) + abs(location[1] - map.end[1])"
   ]
  },
  {
   "cell_type": "code",
   "execution_count": 14,
   "metadata": {},
   "outputs": [],
   "source": [
    "class Map:\n",
    "    def __init__(self, map):\n",
    "        # self.map = map\n",
    "        self.rows = len(map)\n",
    "        self.cols = len(map[0])\n",
    "        self.start = (0, 0)\n",
    "        self.end = (self.rows - 1, self.cols - 1)\n",
    "        self.passable = [[True if map[row][col] == 0 else False for col in range(self.cols)] for row in range(self.rows)]\n",
    "        from collections import defaultdict\n",
    "        self.g_score = defaultdict(lambda: float(\"inf\"))\n",
    "        self.g_score[self.start] = 0\n",
    "\n",
    "        self.f_score = defaultdict(lambda: float(\"inf\"))\n",
    "        self.f_score[self.start] = h(self, self.start)\n",
    "\n",
    "    def locations(self):\n",
    "        for row in range(self.rows):\n",
    "            for col in range(self.cols):\n",
    "                yield (row, col)\n",
    "\n",
    "    def modify(self, location, value):\n",
    "        self.passable[location[0]][location[1]] = value\n",
    "        cost_of_changed = self.g_score[location]\n",
    "        self.g_score[location] = float(\"inf\")\n",
    "        for loc in self.locations():\n",
    "            if self.g_score[loc] >= cost_of_changed:\n",
    "                self.g_score[loc] = float(\"inf\")\n",
    "                self.f_score[loc] = float(\"inf\")\n",
    "\n",
    "        \n",
    "\n",
    "    def get_neighbours(self, loc):\n",
    "        \"\"\" Return a list of neighbors for a given location \"\"\"\n",
    "        neighbours = []\n",
    "        if loc[0] > 0:\n",
    "            neighbours.append((loc[0] - 1, loc[1]))\n",
    "        if loc[0] < self.cols - 1:\n",
    "            neighbours.append((loc[0] + 1, loc[1]))\n",
    "        if loc[1] > 0:\n",
    "            neighbours.append((loc[0], loc[1] - 1))\n",
    "        if loc[1] < self.rows - 1:\n",
    "            neighbours.append((loc[0], loc[1] + 1))\n",
    "        return neighbours\n",
    "    def get_passable_neighbours(self, location):\n",
    "        return filter(lambda loc: self.passable[loc[0]][loc[1]], self.get_neighbours(location))\n",
    "\n",
    "    def A_star(self):\n",
    "        open_set = set(self.start)\n",
    "        came_from = {}\n",
    "\n",
    "        while open_set:\n",
    "            current = min(open_set, key=lambda x: self.f_score[x])\n",
    "            if current == self.end:\n",
    "                # return reconstruct_path(came_from, current)\n",
    "                return self.f_score[current]\n",
    "            open_set.remove(current)\n",
    "            for neighbor in self.get_passable_neighbours(current):\n",
    "                tentative_g_score = self.g_score[current] + 1\n",
    "                if tentative_g_score < self.g_score[neighbor]:\n",
    "                    came_from[neighbor] = current\n",
    "                    self.g_score[neighbor] = tentative_g_score\n",
    "                    self.f_score[neighbor] = self.g_score[neighbor] + h(neighbor)\n",
    "                    if neighbor not in open_set:\n",
    "                        open_set.add(neighbor)\n",
    "        # No path found\n",
    "        return False"
   ]
  },
  {
   "cell_type": "code",
   "execution_count": 15,
   "metadata": {},
   "outputs": [],
   "source": [
    "# def reconstruct_path(came_from, current):\n",
    "#     total_path = [current]\n",
    "#     while current in came_from.keys():\n",
    "#         current = came_from[current]\n",
    "#         total_path.append(current)\n",
    "#     return total_path"
   ]
  },
  {
   "cell_type": "code",
   "execution_count": 16,
   "metadata": {},
   "outputs": [],
   "source": [
    "def solution(map):\n",
    "    m = Map(map)\n",
    "    current_min_length = float(\"inf\")\n",
    "    for removed_cell in useful_removals(m):\n",
    "        m.passable[removed_cell[0]][removed_cell[1]] = False\n",
    "        current_length = m.A_star()\n",
    "        if current_length < current_min_length:\n",
    "            current_min_length = current_length\n",
    "        m.passable[removed_cell[0]][removed_cell[1]] = True"
   ]
  },
  {
   "cell_type": "code",
   "execution_count": null,
   "metadata": {},
   "outputs": [],
   "source": []
  }
 ],
 "metadata": {
  "kernelspec": {
   "display_name": "Python 2.7.13 ('Google')",
   "language": "python",
   "name": "python3"
  },
  "language_info": {
   "codemirror_mode": {
    "name": "ipython",
    "version": 2
   },
   "file_extension": ".py",
   "mimetype": "text/x-python",
   "name": "python",
   "nbconvert_exporter": "python",
   "pygments_lexer": "ipython2",
   "version": "2.7.13"
  },
  "orig_nbformat": 4,
  "vscode": {
   "interpreter": {
    "hash": "d62e7cced7d74a8bab4884f7a54ced0fc1f422e38a39fd34859db140bc2d17d7"
   }
  }
 },
 "nbformat": 4,
 "nbformat_minor": 2
}
