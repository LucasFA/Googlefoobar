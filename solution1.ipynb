{
 "cells": [
  {
   "cell_type": "code",
   "execution_count": 1,
   "metadata": {},
   "outputs": [],
   "source": [
    "import math\n",
    "from itertools import ifilter\n",
    "import sympy"
   ]
  },
  {
   "cell_type": "code",
   "execution_count": 2,
   "metadata": {},
   "outputs": [
    {
     "name": "stdout",
     "output_type": "stream",
     "text": [
      "Éxito\n"
     ]
    }
   ],
   "source": [
    "def sieve(n):\n",
    "    \"\"\"Returns a list holding prime numbers\"\"\"\n",
    "    # I mean, we could just download a list of primes instead. That would be more performant time and memory wise for large n\n",
    "\n",
    "    if n <= 1:\n",
    "        return []\n",
    "    prime_flag_table = [False for _ in range(2)]\n",
    "    prime_flag_table.extend([True for _ in range(2, n)]) \n",
    "\n",
    "    \n",
    "    true_values_table_it = ifilter(lambda i: prime_flag_table[i], range(2, int(math.ceil(math.sqrt(n)))))\n",
    "    for i in true_values_table_it:\n",
    "        for j in range(i**2, n, i):\n",
    "            prime_flag_table[j] = False\n",
    "    primes = [idx for idx, value in enumerate(prime_flag_table) if value]\n",
    "    return primes\n",
    "\n",
    "\n",
    "def test_sieve(n = 100):\n",
    "    for n in range(n):\n",
    "        s1 = sieve(n)\n",
    "        s2 = list(sympy.sieve.primerange(0, n))\n",
    "        if s1 != s2:\n",
    "            print(\"Fallado en\", n, \"Tabla real\")\n",
    "            print(s2)\n",
    "            print(\"Tabla presentada:\")\n",
    "            print(s1)\n",
    "    print(\"Éxito\")\n",
    "\n",
    "test_sieve()"
   ]
  },
  {
   "cell_type": "code",
   "execution_count": 6,
   "metadata": {},
   "outputs": [],
   "source": [
    "def prime_string(length):\n",
    "    s = \"\"\n",
    "    # we want to underestimate the number of primes in a range so we don't need to start the sieve over again\n",
    "    # for more, read https://en.wikipedia.org/wiki/Prime_number_theorem#Table_of_%CF%80(x),_x_/_log_x,_and_li(x)\n",
    "    factor = 1.5\n",
    "    reasonable_min = 20 + length # 235711131719\n",
    "    PNT_dist = length/math.log(max(2, length)) \n",
    "    while len(s) < length:\n",
    "        primes = sieve(factor * max(reasonable_min, PNT_dist)) \n",
    "        s = list_to_string(primes)\n",
    "        factor *= 2\n",
    "    return s[:length]\n",
    "\n",
    "def list_to_string(l):\n",
    "    return ''.join([str(n) for n in l])\n",
    "\n",
    "\n",
    "ID_length = 5\n",
    "\n",
    "def solution(n):\n",
    "    prime_s = prime_string(n + ID_length) \n",
    "    return prime_s[n:(n+ID_length)]\n",
    "\n",
    "\n",
    "def test(n):\n",
    "    s = solution(n)\n",
    "    return len(s) == ID_length"
   ]
  },
  {
   "cell_type": "code",
   "execution_count": 13,
   "metadata": {},
   "outputs": [
    {
     "name": "stdout",
     "output_type": "stream",
     "text": [
      "23571\n",
      "35711\n",
      "57111\n",
      "71113\n",
      "11131\n",
      "11317\n",
      "13171\n",
      "31719\n",
      "17192\n",
      "71923\n"
     ]
    }
   ],
   "source": [
    "for n in range(10):\n",
    "    print(solution(n))"
   ]
  },
  {
   "cell_type": "code",
   "execution_count": 24,
   "metadata": {},
   "outputs": [],
   "source": [
    "\n",
    "import math\n",
    "from itertools import ifilter\n",
    "import sympy\n",
    "\n",
    "def sieve(n):\n",
    "    \"\"\"Returns a list holding prime numbers\"\"\"\n",
    "    # I mean, we could just download a list of primes instead. That would be more performant time and memory wise for large n\n",
    "\n",
    "    if n <= 1:\n",
    "        return []\n",
    "    prime_flag_table = [False for _ in range(2)]\n",
    "    prime_flag_table.extend([True for _ in range(2, n)]) \n",
    "\n",
    "    \n",
    "    true_values_table_it = ifilter(lambda i: prime_flag_table[i], range(2, int(math.ceil(math.sqrt(n)))))\n",
    "    for i in true_values_table_it:\n",
    "        for j in range(i**2, n, i):\n",
    "            prime_flag_table[j] = False\n",
    "    primes = [idx for idx, value in enumerate(prime_flag_table) if value]\n",
    "    return primes\n",
    "\n",
    "def prime_string(length):\n",
    "    s = \"\"\n",
    "    primes = []\n",
    "    # we want to underestimate the number of primes in a range so we don't need to start the sieve over again\n",
    "    # for more, read https://en.wikipedia.org/wiki/Prime_number_theorem#Table_of_%CF%80(x),_x_/_log_x,_and_li(x)\n",
    "    factor = 1.5\n",
    "    reasonable_min = 20 + length # 235711\n",
    "    PNT_dist =  length/math.log(max(2, length)) # see \"Prime number theorem\"\n",
    "    while len(s) < length:\n",
    "        primes = sieve(factor * max(reasonable_min, PNT_dist)) \n",
    "        s = list_to_string(primes)\n",
    "        factor *= 2\n",
    "    return s[:length]\n",
    "\n",
    "def list_to_string(l):\n",
    "    return ''.join([str(n) for n in l])\n",
    "\n",
    "\n",
    "ID_length = 5\n",
    "\n",
    "def solution(n):\n",
    "    prime_s = prime_string(n + ID_length) \n",
    "    return prime_s[n:(n+ID_length)]\n",
    "\n",
    "\n",
    "def test(n):\n",
    "    s = solution(n)\n",
    "    print(s, len(s) == ID_length, n)"
   ]
  },
  {
   "cell_type": "code",
   "execution_count": 26,
   "metadata": {},
   "outputs": [
    {
     "ename": "TypeError",
     "evalue": "range() integer end argument expected, got float.",
     "output_type": "error",
     "traceback": [
      "\u001b[1;31m\u001b[0m",
      "\u001b[1;31mTypeError\u001b[0mTraceback (most recent call last)",
      "\u001b[1;32m<ipython-input-26-d25e79562706>\u001b[0m in \u001b[0;36m<module>\u001b[1;34m()\u001b[0m\n\u001b[0;32m      1\u001b[0m \u001b[1;32mfor\u001b[0m \u001b[0mn\u001b[0m \u001b[1;32min\u001b[0m \u001b[0mrange\u001b[0m\u001b[1;33m(\u001b[0m\u001b[1;36m1000\u001b[0m\u001b[1;33m)\u001b[0m\u001b[1;33m:\u001b[0m\u001b[1;33m\u001b[0m\u001b[0m\n\u001b[1;32m----> 2\u001b[1;33m     \u001b[0mtest\u001b[0m\u001b[1;33m(\u001b[0m\u001b[0mn\u001b[0m\u001b[1;33m)\u001b[0m\u001b[1;33m\u001b[0m\u001b[0m\n\u001b[0m",
      "\u001b[1;32m<ipython-input-24-dd5bc6084b81>\u001b[0m in \u001b[0;36mtest\u001b[1;34m(n)\u001b[0m\n\u001b[0;32m     47\u001b[0m \u001b[1;33m\u001b[0m\u001b[0m\n\u001b[0;32m     48\u001b[0m \u001b[1;32mdef\u001b[0m \u001b[0mtest\u001b[0m\u001b[1;33m(\u001b[0m\u001b[0mn\u001b[0m\u001b[1;33m)\u001b[0m\u001b[1;33m:\u001b[0m\u001b[1;33m\u001b[0m\u001b[0m\n\u001b[1;32m---> 49\u001b[1;33m     \u001b[0ms\u001b[0m \u001b[1;33m=\u001b[0m \u001b[0msolution\u001b[0m\u001b[1;33m(\u001b[0m\u001b[0mn\u001b[0m\u001b[1;33m)\u001b[0m\u001b[1;33m\u001b[0m\u001b[0m\n\u001b[0m\u001b[0;32m     50\u001b[0m     \u001b[1;32mprint\u001b[0m\u001b[1;33m(\u001b[0m\u001b[0ms\u001b[0m\u001b[1;33m,\u001b[0m \u001b[0mlen\u001b[0m\u001b[1;33m(\u001b[0m\u001b[0ms\u001b[0m\u001b[1;33m)\u001b[0m \u001b[1;33m==\u001b[0m \u001b[0mID_length\u001b[0m\u001b[1;33m,\u001b[0m \u001b[0mn\u001b[0m\u001b[1;33m)\u001b[0m\u001b[1;33m\u001b[0m\u001b[0m\n",
      "\u001b[1;32m<ipython-input-24-dd5bc6084b81>\u001b[0m in \u001b[0;36msolution\u001b[1;34m(n)\u001b[0m\n\u001b[0;32m     42\u001b[0m \u001b[1;33m\u001b[0m\u001b[0m\n\u001b[0;32m     43\u001b[0m \u001b[1;32mdef\u001b[0m \u001b[0msolution\u001b[0m\u001b[1;33m(\u001b[0m\u001b[0mn\u001b[0m\u001b[1;33m)\u001b[0m\u001b[1;33m:\u001b[0m\u001b[1;33m\u001b[0m\u001b[0m\n\u001b[1;32m---> 44\u001b[1;33m     \u001b[0mprime_s\u001b[0m \u001b[1;33m=\u001b[0m \u001b[0mprime_string\u001b[0m\u001b[1;33m(\u001b[0m\u001b[0mn\u001b[0m \u001b[1;33m+\u001b[0m \u001b[0mID_length\u001b[0m\u001b[1;33m)\u001b[0m\u001b[1;33m\u001b[0m\u001b[0m\n\u001b[0m\u001b[0;32m     45\u001b[0m     \u001b[1;32mreturn\u001b[0m \u001b[0mprime_s\u001b[0m\u001b[1;33m[\u001b[0m\u001b[0mn\u001b[0m\u001b[1;33m:\u001b[0m\u001b[1;33m(\u001b[0m\u001b[0mn\u001b[0m\u001b[1;33m+\u001b[0m\u001b[0mID_length\u001b[0m\u001b[1;33m)\u001b[0m\u001b[1;33m]\u001b[0m\u001b[1;33m\u001b[0m\u001b[0m\n\u001b[0;32m     46\u001b[0m \u001b[1;33m\u001b[0m\u001b[0m\n",
      "\u001b[1;32m<ipython-input-24-dd5bc6084b81>\u001b[0m in \u001b[0;36mprime_string\u001b[1;34m(length)\u001b[0m\n\u001b[0;32m     30\u001b[0m     \u001b[0mPNT_dist\u001b[0m \u001b[1;33m=\u001b[0m  \u001b[0mlength\u001b[0m\u001b[1;33m/\u001b[0m\u001b[0mmath\u001b[0m\u001b[1;33m.\u001b[0m\u001b[0mlog\u001b[0m\u001b[1;33m(\u001b[0m\u001b[0mmax\u001b[0m\u001b[1;33m(\u001b[0m\u001b[1;36m2\u001b[0m\u001b[1;33m,\u001b[0m \u001b[0mlength\u001b[0m\u001b[1;33m)\u001b[0m\u001b[1;33m)\u001b[0m \u001b[1;31m# see \"Prime number theorem\"\u001b[0m\u001b[1;33m\u001b[0m\u001b[0m\n\u001b[0;32m     31\u001b[0m     \u001b[1;32mwhile\u001b[0m \u001b[0mlen\u001b[0m\u001b[1;33m(\u001b[0m\u001b[0ms\u001b[0m\u001b[1;33m)\u001b[0m \u001b[1;33m<\u001b[0m \u001b[0mlength\u001b[0m\u001b[1;33m:\u001b[0m\u001b[1;33m\u001b[0m\u001b[0m\n\u001b[1;32m---> 32\u001b[1;33m         \u001b[0mprimes\u001b[0m \u001b[1;33m=\u001b[0m \u001b[0msieve\u001b[0m\u001b[1;33m(\u001b[0m\u001b[0mfactor\u001b[0m \u001b[1;33m*\u001b[0m \u001b[0mmax\u001b[0m\u001b[1;33m(\u001b[0m\u001b[0mreasonable_min\u001b[0m\u001b[1;33m,\u001b[0m \u001b[0mPNT_dist\u001b[0m\u001b[1;33m)\u001b[0m\u001b[1;33m)\u001b[0m\u001b[1;33m\u001b[0m\u001b[0m\n\u001b[0m\u001b[0;32m     33\u001b[0m         \u001b[0ms\u001b[0m \u001b[1;33m=\u001b[0m \u001b[0mlist_to_string\u001b[0m\u001b[1;33m(\u001b[0m\u001b[0mprimes\u001b[0m\u001b[1;33m)\u001b[0m\u001b[1;33m\u001b[0m\u001b[0m\n\u001b[0;32m     34\u001b[0m         \u001b[0mfactor\u001b[0m \u001b[1;33m*=\u001b[0m \u001b[1;36m2\u001b[0m\u001b[1;33m\u001b[0m\u001b[0m\n",
      "\u001b[1;32m<ipython-input-24-dd5bc6084b81>\u001b[0m in \u001b[0;36msieve\u001b[1;34m(n)\u001b[0m\n\u001b[0;32m     11\u001b[0m         \u001b[1;32mreturn\u001b[0m \u001b[1;33m[\u001b[0m\u001b[1;33m]\u001b[0m\u001b[1;33m\u001b[0m\u001b[0m\n\u001b[0;32m     12\u001b[0m     \u001b[0mprime_flag_table\u001b[0m \u001b[1;33m=\u001b[0m \u001b[1;33m[\u001b[0m\u001b[0mFalse\u001b[0m \u001b[1;32mfor\u001b[0m \u001b[0m_\u001b[0m \u001b[1;32min\u001b[0m \u001b[0mrange\u001b[0m\u001b[1;33m(\u001b[0m\u001b[1;36m2\u001b[0m\u001b[1;33m)\u001b[0m\u001b[1;33m]\u001b[0m\u001b[1;33m\u001b[0m\u001b[0m\n\u001b[1;32m---> 13\u001b[1;33m     \u001b[0mprime_flag_table\u001b[0m\u001b[1;33m.\u001b[0m\u001b[0mextend\u001b[0m\u001b[1;33m(\u001b[0m\u001b[1;33m[\u001b[0m\u001b[0mTrue\u001b[0m \u001b[1;32mfor\u001b[0m \u001b[0m_\u001b[0m \u001b[1;32min\u001b[0m \u001b[0mrange\u001b[0m\u001b[1;33m(\u001b[0m\u001b[1;36m2\u001b[0m\u001b[1;33m,\u001b[0m \u001b[0mn\u001b[0m\u001b[1;33m)\u001b[0m\u001b[1;33m]\u001b[0m\u001b[1;33m)\u001b[0m\u001b[1;33m\u001b[0m\u001b[0m\n\u001b[0m\u001b[0;32m     14\u001b[0m \u001b[1;33m\u001b[0m\u001b[0m\n\u001b[0;32m     15\u001b[0m \u001b[1;33m\u001b[0m\u001b[0m\n",
      "\u001b[1;31mTypeError\u001b[0m: range() integer end argument expected, got float."
     ]
    }
   ],
   "source": [
    "for n in range(1000):\n",
    "    test(n)"
   ]
  },
  {
   "cell_type": "code",
   "execution_count": null,
   "metadata": {},
   "outputs": [],
   "source": []
  }
 ],
 "metadata": {
  "kernelspec": {
   "display_name": "Python 2.7.13 ('Google')",
   "language": "python",
   "name": "python3"
  },
  "language_info": {
   "codemirror_mode": {
    "name": "ipython",
    "version": 2
   },
   "file_extension": ".py",
   "mimetype": "text/x-python",
   "name": "python",
   "nbconvert_exporter": "python",
   "pygments_lexer": "ipython2",
   "version": "2.7.13"
  },
  "orig_nbformat": 4,
  "vscode": {
   "interpreter": {
    "hash": "d62e7cced7d74a8bab4884f7a54ced0fc1f422e38a39fd34859db140bc2d17d7"
   }
  }
 },
 "nbformat": 4,
 "nbformat_minor": 2
}
