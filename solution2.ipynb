{
 "cells": [
  {
   "cell_type": "code",
   "execution_count": 60,
   "metadata": {},
   "outputs": [],
   "source": [
    "def list_to_int(x, b):\n",
    "    sum = 0\n",
    "    for power, digit in enumerate(reversed(x)):\n",
    "        sum += digit * b ** power\n",
    "    return sum\n",
    "\n",
    "def int2str(n, b):\n",
    "    \"\"\"Returns a string representing the non-negative integer n in base b\"\"\"\n",
    "    out_list = []\n",
    "    digit = n % b\n",
    "    out_list.append(digit)\n",
    "    while n >= b:\n",
    "        n //= b\n",
    "        digit = n % b\n",
    "        out_list.append(digit)\n",
    "    out = [str(digit) for digit in reversed(out_list)]\n",
    "    return ''.join(out)\n",
    "\n",
    "class MixNumberIter:\n",
    "    def __init__(self, num_str, b):\n",
    "        self.str = num_str\n",
    "        self.k = len(self.str) + 1\n",
    "        self.base = b\n",
    "    def __repr__(self):\n",
    "        return self.str\n",
    "    def next(self):\n",
    "        \"\"\"Implements steps 2 to 4 of the described algorithm\"\"\"\n",
    "        y = [yi for yi in sorted(self.str)]\n",
    "\n",
    "        x = ''.join(reversed(y))\n",
    "        y = ''.join(y)\n",
    "        x, y = int(x, self.base), int(y, self.base)\n",
    "        \n",
    "        z = x - y\n",
    "        print(z)\n",
    "        z = int2str(z, self.base)\n",
    "        print(z)\n",
    "        z.rjust(self.k, '0')\n",
    "        print(z)\n",
    "        \n",
    "        self.str = z\n",
    "        return self "
   ]
  },
  {
   "cell_type": "code",
   "execution_count": 64,
   "metadata": {},
   "outputs": [
    {
     "name": "stdout",
     "output_type": "stream",
     "text": [
      "1211\n",
      "26\n",
      "222\n",
      "222\n",
      "222\n"
     ]
    }
   ],
   "source": [
    "t = MixNumberIter('1211', 3)\n",
    "print(t)\n",
    "print(t.next())\n",
    "# print(t.next())\n",
    "# print(t.next())\n",
    "# print(t.next())\n",
    "# print(t.next())"
   ]
  },
  {
   "cell_type": "code",
   "execution_count": 2,
   "metadata": {},
   "outputs": [],
   "source": [
    "def solution(n, b):\n",
    "    k = len(n)\n",
    "    current_ID = MixNumberIter(n)\n",
    "    previously_seen_IDs = []\n",
    "    it = 0\n",
    "    idx_of_previous = -1\n",
    "    while current_ID not in previously_seen_IDs:\n",
    "        previously_seen_IDs.append(current_ID)\n",
    "        it +=1\n",
    "        current_ID.next()\n",
    "        try:\n",
    "            idx_of_previous = previously_seen_IDs.index(current_ID)\n",
    "        except ValueError:\n",
    "            continue\n",
    "\n",
    "    cycle_length = len(previously_seen_IDs) - idx_of_previous\n",
    "    return cycle_length\n"
   ]
  },
  {
   "cell_type": "code",
   "execution_count": null,
   "metadata": {},
   "outputs": [],
   "source": []
  }
 ],
 "metadata": {
  "kernelspec": {
   "display_name": "Python 2.7.13 ('Google')",
   "language": "python",
   "name": "python3"
  },
  "language_info": {
   "codemirror_mode": {
    "name": "ipython",
    "version": 2
   },
   "file_extension": ".py",
   "mimetype": "text/x-python",
   "name": "python",
   "nbconvert_exporter": "python",
   "pygments_lexer": "ipython2",
   "version": "2.7.13"
  },
  "orig_nbformat": 4,
  "vscode": {
   "interpreter": {
    "hash": "d62e7cced7d74a8bab4884f7a54ced0fc1f422e38a39fd34859db140bc2d17d7"
   }
  }
 },
 "nbformat": 4,
 "nbformat_minor": 2
}
