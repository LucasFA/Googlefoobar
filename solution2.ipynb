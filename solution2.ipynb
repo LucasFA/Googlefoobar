{
 "cells": [
  {
   "cell_type": "code",
   "execution_count": 1,
   "metadata": {},
   "outputs": [],
   "source": [
    "# def list_to_int(x, b):\n",
    "#     sum = 0\n",
    "#     for power, digit in enumerate(reversed(x)):\n",
    "#         sum += digit * b ** power\n",
    "#     return sum"
   ]
  },
  {
   "cell_type": "code",
   "execution_count": 2,
   "metadata": {},
   "outputs": [],
   "source": [
    "def int2str(n, b):\n",
    "    \"\"\"Returns a string representing the non-negative integer n in base b\"\"\"\n",
    "    out_list = []\n",
    "    digit = n % b\n",
    "    out_list.append(digit)\n",
    "    while n >= b:\n",
    "        n //= b\n",
    "        digit = n % b\n",
    "        out_list.append(digit)\n",
    "    out = [str(digit) for digit in reversed(out_list)]\n",
    "    return ''.join(out)"
   ]
  },
  {
   "cell_type": "code",
   "execution_count": 12,
   "metadata": {},
   "outputs": [],
   "source": [
    "class SequenceIterator:\n",
    "    def __init__(self, num_str, b):\n",
    "        self.str = num_str\n",
    "        self.k = len(self.str)\n",
    "        self.base = b\n",
    "\n",
    "    def _next(self):\n",
    "        \"\"\"Implements steps 2 to 4 of the described algorithm\"\"\"\n",
    "        y = [yi for yi in sorted(self.str)]\n",
    "\n",
    "        x = ''.join(reversed(y))\n",
    "        y = ''.join(y)\n",
    "        x, y = int(x, self.base), int(y, self.base)\n",
    "        z = x - y\n",
    "\n",
    "        z = int2str(z, self.base)\n",
    "        z = z.rjust(self.k, '0')\n",
    "        \n",
    "        self.str = z\n",
    "        return self\n",
    "\n",
    "    def cycle_length(self):\n",
    "        \"\"\"Returns the length of the repeating cycle \"it\" falls into. Assumes the entry falls into a cycle, otherwise, runs indefinitely\"\"\"\n",
    "        # Quick lookups, quick insertions associative memory (holding how long ago it was seen)\n",
    "        # Now, you may make this more memory efficient at the cost of extra computations by storing number as a base b integer and converting that to a str everytime\n",
    "        previously_seen_IDs = {}\n",
    "        step_counter = 0\n",
    "        # print(previously_seen_IDs)\n",
    "        step_counter +=1\n",
    "        previously_seen_IDs[self.str] = step_counter\n",
    "        while True:\n",
    "            self._next()\n",
    "            step_counter +=1\n",
    "            # print(previously_seen_IDs)\n",
    "            if self.str in previously_seen_IDs:\n",
    "                # cycle length is the number of steps from a node to itself\n",
    "                return step_counter - previously_seen_IDs[self.str]\n",
    "            previously_seen_IDs[self.str] = step_counter"
   ]
  },
  {
   "cell_type": "code",
   "execution_count": 13,
   "metadata": {},
   "outputs": [
    {
     "name": "stdout",
     "output_type": "stream",
     "text": [
      "True\n",
      "True\n"
     ]
    }
   ],
   "source": [
    "n, b = '210022', 3\n",
    "t = SequenceIterator(n, b)\n",
    "print(t.cycle_length() == 3)\n",
    "n, b = '1211', 10\n",
    "t = SequenceIterator(n, b)\n",
    "print(t.cycle_length() == 1)\n",
    "# n, b = '', 3"
   ]
  },
  {
   "cell_type": "code",
   "execution_count": 5,
   "metadata": {},
   "outputs": [],
   "source": [
    "def solution(n, b):\n",
    "    iter_ID = SequenceIterator(n, b)\n",
    "    return iter_ID.cycle_length()"
   ]
  },
  {
   "cell_type": "code",
   "execution_count": null,
   "metadata": {},
   "outputs": [],
   "source": []
  }
 ],
 "metadata": {
  "kernelspec": {
   "display_name": "Python 2.7.13 ('Google')",
   "language": "python",
   "name": "python3"
  },
  "language_info": {
   "codemirror_mode": {
    "name": "ipython",
    "version": 2
   },
   "file_extension": ".py",
   "mimetype": "text/x-python",
   "name": "python",
   "nbconvert_exporter": "python",
   "pygments_lexer": "ipython2",
   "version": "2.7.13"
  },
  "orig_nbformat": 4,
  "vscode": {
   "interpreter": {
    "hash": "d62e7cced7d74a8bab4884f7a54ced0fc1f422e38a39fd34859db140bc2d17d7"
   }
  }
 },
 "nbformat": 4,
 "nbformat_minor": 2
}
