{
 "cells": [
  {
   "cell_type": "code",
   "execution_count": 2,
   "metadata": {},
   "outputs": [],
   "source": [
    "def times_divisible_by_two(n):\n",
    "    \"\"\"Returns the exponent of 2 in the prime factorization of n\"\"\"\n",
    "    counter = 0\n",
    "    while n % 2 == 0:\n",
    "        counter += 1\n",
    "        n /= 2\n",
    "    return counter"
   ]
  },
  {
   "cell_type": "code",
   "execution_count": 3,
   "metadata": {},
   "outputs": [],
   "source": [
    "import math\n",
    "def closest_powers_of_two(n):\n",
    "    \"\"\"If n is a power of 2, return (n, n). Else, returns a tuple containig the two closest powers of two, in order\"\"\"\n",
    "    # Looks like it might be dangerous to muck around with floats but in this case we only care about the closest power\n",
    "    log_2n = math.log(n, 2)\n",
    "    \n",
    "    previous_power = 2 ** math.floor(log_2n)\n",
    "    # d_prev = n - previous_power\n",
    "    \n",
    "    next_power = 2 ** math.ceil(log_2n)\n",
    "    # d_next = next_power - n\n",
    "\n",
    "    return (int(previous_power), int(next_power))"
   ]
  },
  {
   "cell_type": "code",
   "execution_count": 4,
   "metadata": {},
   "outputs": [],
   "source": [
    "class Memoize:\n",
    "    def __init__(self, f):\n",
    "        self.f = f\n",
    "        self.memo = {}\n",
    "    def __call__(self, *args):\n",
    "        if args not in self.memo:\n",
    "            self.memo[args] = self.f(*args)\n",
    "        return self.memo[args]\n",
    "\n",
    "def naive_step_counter(n):\n",
    "    counter = 0\n",
    "\n",
    "    while n != 1:\n",
    "        counter += 1\n",
    "        if n % 2 == 0:\n",
    "            n /= 2\n",
    "        else:\n",
    "            delta = -1 if naive_step_counter(n - 1) <= naive_step_counter(n + 1)  else 1\n",
    "            n += delta\n",
    "    \n",
    "    return counter\n",
    "\n",
    "\n",
    "memoized_naive_step_counter = Memoize(naive_step_counter)"
   ]
  },
  {
   "cell_type": "code",
   "execution_count": 5,
   "metadata": {},
   "outputs": [],
   "source": [
    "def power_of_two_counter(n):\n",
    "    counter = 0\n",
    "    \n",
    "    while n != 1:\n",
    "        counter += 1\n",
    "        if n % 2 == 0:\n",
    "            n /= 2\n",
    "        else:\n",
    "            p1, p2 = closest_powers_of_two(n)\n",
    "            d1 = n - p1\n",
    "            d2 = p2 - n\n",
    "\n",
    "            delta = -1 if d1 <= d2 else 1\n",
    "            n += delta\n",
    "    \n",
    "    return counter"
   ]
  },
  {
   "cell_type": "markdown",
   "metadata": {},
   "source": [
    "Suppose we start with some even integer n > 2, with closest power of 2 some integer m\n",
    "\n",
    "¿Should we halve inmediately?\n",
    "\n",
    "If it is a power of 2, you have the minimal path available.\n",
    "\n",
    "If it is not, it is sandwiched between two powers of 2: 2^k1 < n < 2^k2\n",
    "<!-- If n = 2^k1 + 1, then the path is 2^k1 + 1 -> 2^k1 -> 2^k1/2 -> 2^k1/4 -> ... -> 2^0 -> 1 -->\n",
    "\n",
    "If n = 2^k1 + 2, then the path is 2^k1 + 2 -> 2^k1/2 + 1 -> 2^k1/2 -> 2^k1/4 -> ... -> 2^0 -> 1\n",
    "If n = 2^k1 + 4, then the path is 2^k1 + 4 -> 2^k1/2 + 2 -> 2^k1/4 + 1 -> 2^k1/2 -> 2^k1/4 -> ... -> 2^0 -> 1\n",
    "If n = 2^k1 + 6, then the path is 2^k1 + 6 -> 2^k1/2 + 3 -> 2^k1/2 + 2 -> 2^k1/4 +1 -> 2^k1/4 -> ... -> 2^0 -> 1\n",
    "And so on for for all even numbers between 2^k1 and 2^k2.\n",
    "\n",
    "So, always halve when even.\n",
    "\n",
    "If n is odd, the path starts by going to n+1 or to n-1. In either case, that case has been solved previously as it it even.\n",
    "\n",
    "\n",
    "If n is odd, add or substract towards the closest power of two\n",
    "Notice we always end up with a sequence ending with, in reverse order, 1, 2, [3 or 4], [~4~ or 5 or 6 or 8], ...\n",
    "That is, the fastest way to 1 goes through 2, so it includes the fastest way to 2.\n",
    "Suppose we have some integer n.\n",
    "If n is a power of two, n = 2^k. Halving it k times is the shortest possible path\n",
    "If n not a power of two,\n",
    "    2^k < n < 2^(k+1)\n",
    "    d(2^k, n) = n - 2^k\n",
    "    d(n, 2^(k+1)) = 2^(k+1) - n\n",
    "    if n is even, halving both of those numbers halves the distance between them\n",
    "    if n is odd, "
   ]
  },
  {
   "cell_type": "code",
   "execution_count": 11,
   "metadata": {},
   "outputs": [],
   "source": [
    "def steps(n):\n",
    "    counter = 0\n",
    "\n",
    "    while n != 1:\n",
    "        # print n\n",
    "        counter += 1\n",
    "        if n % 2 == 0:\n",
    "            n /= 2\n",
    "        elif n == 3:\n",
    "            # Well, this is a special case. It's the only integer n such that both n-1 and n+1 are powers of 2\n",
    "            return counter + 1\n",
    "        else:\n",
    "            delta = -1 if times_divisible_by_two(n - 1) >= times_divisible_by_two(n + 1) else 1\n",
    "            n += delta\n",
    "    \n",
    "    return counter\n",
    "\n",
    "def steps2(n):\n",
    "    counter = 0\n",
    "\n",
    "    while n != 1:\n",
    "        # print n\n",
    "        counter += 1\n",
    "        if n % 2 == 0:\n",
    "            n /= 2\n",
    "        elif n == 3:\n",
    "            # Well, this is a special case. It's the only integer n such that both n-1 and n+1 are powers of 2\n",
    "            return counter + 1\n",
    "        else:\n",
    "            \n",
    "            delta = -1 if times_divisible_by_two(n - 1) > times_divisible_by_two(n + 1) else 1\n",
    "            n += delta\n",
    "    \n",
    "    return counter"
   ]
  },
  {
   "cell_type": "code",
   "execution_count": 12,
   "metadata": {},
   "outputs": [],
   "source": [
    "def solution(n):\n",
    "    return steps(int(n))"
   ]
  },
  {
   "cell_type": "code",
   "execution_count": 15,
   "metadata": {},
   "outputs": [
    {
     "ename": "KeyboardInterrupt",
     "evalue": "",
     "output_type": "error",
     "traceback": [
      "\u001b[1;31m\u001b[0m",
      "\u001b[1;31mKeyboardInterrupt\u001b[0mTraceback (most recent call last)",
      "\u001b[1;32m<ipython-input-15-3058bf782c87>\u001b[0m in \u001b[0;36m<module>\u001b[1;34m()\u001b[0m\n\u001b[0;32m      3\u001b[0m \u001b[1;32mfor\u001b[0m \u001b[0mcase\u001b[0m \u001b[1;32min\u001b[0m \u001b[0mcases\u001b[0m\u001b[1;33m:\u001b[0m\u001b[1;33m\u001b[0m\u001b[0m\n\u001b[0;32m      4\u001b[0m     \u001b[0mmaybe_bad\u001b[0m \u001b[1;33m=\u001b[0m \u001b[0msteps2\u001b[0m\u001b[1;33m(\u001b[0m\u001b[0mint\u001b[0m\u001b[1;33m(\u001b[0m\u001b[0mcase\u001b[0m\u001b[1;33m)\u001b[0m\u001b[1;33m)\u001b[0m\u001b[1;33m\u001b[0m\u001b[0m\n\u001b[1;32m----> 5\u001b[1;33m     \u001b[0mgood\u001b[0m \u001b[1;33m=\u001b[0m \u001b[0msteps\u001b[0m\u001b[1;33m(\u001b[0m\u001b[0mint\u001b[0m\u001b[1;33m(\u001b[0m\u001b[0mcase\u001b[0m\u001b[1;33m)\u001b[0m\u001b[1;33m)\u001b[0m\u001b[1;33m\u001b[0m\u001b[0m\n\u001b[0m\u001b[0;32m      6\u001b[0m     \u001b[0mallsame\u001b[0m \u001b[1;33m=\u001b[0m \u001b[0mallsame\u001b[0m \u001b[1;32mand\u001b[0m \u001b[1;33m(\u001b[0m\u001b[0mgood\u001b[0m \u001b[1;33m==\u001b[0m \u001b[0mmaybe_bad\u001b[0m\u001b[1;33m)\u001b[0m\u001b[1;33m\u001b[0m\u001b[0m\n\u001b[0;32m      7\u001b[0m     \u001b[1;31m# print(case, good, maybe_bad)\u001b[0m\u001b[1;33m\u001b[0m\u001b[1;33m\u001b[0m\u001b[0m\n",
      "\u001b[1;32m<ipython-input-11-703b7e3ac166>\u001b[0m in \u001b[0;36msteps\u001b[1;34m(n)\u001b[0m\n\u001b[0;32m     11\u001b[0m             \u001b[1;32mreturn\u001b[0m \u001b[0mcounter\u001b[0m \u001b[1;33m+\u001b[0m \u001b[1;36m1\u001b[0m\u001b[1;33m\u001b[0m\u001b[0m\n\u001b[0;32m     12\u001b[0m         \u001b[1;32melse\u001b[0m\u001b[1;33m:\u001b[0m\u001b[1;33m\u001b[0m\u001b[0m\n\u001b[1;32m---> 13\u001b[1;33m             \u001b[0mdelta\u001b[0m \u001b[1;33m=\u001b[0m \u001b[1;33m-\u001b[0m\u001b[1;36m1\u001b[0m \u001b[1;32mif\u001b[0m \u001b[0mtimes_divisible_by_two\u001b[0m\u001b[1;33m(\u001b[0m\u001b[0mn\u001b[0m \u001b[1;33m-\u001b[0m \u001b[1;36m1\u001b[0m\u001b[1;33m)\u001b[0m \u001b[1;33m>=\u001b[0m \u001b[0mtimes_divisible_by_two\u001b[0m\u001b[1;33m(\u001b[0m\u001b[0mn\u001b[0m \u001b[1;33m+\u001b[0m \u001b[1;36m1\u001b[0m\u001b[1;33m)\u001b[0m \u001b[1;32melse\u001b[0m \u001b[1;36m1\u001b[0m\u001b[1;33m\u001b[0m\u001b[0m\n\u001b[0m\u001b[0;32m     14\u001b[0m             \u001b[0mn\u001b[0m \u001b[1;33m+=\u001b[0m \u001b[0mdelta\u001b[0m\u001b[1;33m\u001b[0m\u001b[0m\n\u001b[0;32m     15\u001b[0m \u001b[1;33m\u001b[0m\u001b[0m\n",
      "\u001b[1;32m<ipython-input-2-d1f590277cb1>\u001b[0m in \u001b[0;36mtimes_divisible_by_two\u001b[1;34m(n)\u001b[0m\n\u001b[0;32m      4\u001b[0m     \u001b[1;32mwhile\u001b[0m \u001b[0mn\u001b[0m \u001b[1;33m%\u001b[0m \u001b[1;36m2\u001b[0m \u001b[1;33m==\u001b[0m \u001b[1;36m0\u001b[0m\u001b[1;33m:\u001b[0m\u001b[1;33m\u001b[0m\u001b[0m\n\u001b[0;32m      5\u001b[0m         \u001b[0mcounter\u001b[0m \u001b[1;33m+=\u001b[0m \u001b[1;36m1\u001b[0m\u001b[1;33m\u001b[0m\u001b[0m\n\u001b[1;32m----> 6\u001b[1;33m         \u001b[0mn\u001b[0m \u001b[1;33m/=\u001b[0m \u001b[1;36m2\u001b[0m\u001b[1;33m\u001b[0m\u001b[0m\n\u001b[0m\u001b[0;32m      7\u001b[0m     \u001b[1;32mreturn\u001b[0m \u001b[0mcounter\u001b[0m\u001b[1;33m\u001b[0m\u001b[0m\n",
      "\u001b[1;31mKeyboardInterrupt\u001b[0m: "
     ]
    }
   ],
   "source": [
    "cases = range(10000000, 100000000)\n",
    "allsame = True\n",
    "for case in cases:\n",
    "    maybe_bad = steps2(int(case))\n",
    "    good = steps(int(case))\n",
    "    allsame = allsame and (good == maybe_bad)\n",
    "    # print(case, good, maybe_bad)\n",
    "\n",
    "print(allsame)\n",
    "# reduce(lambda i, acc: acc and naive_step_counter(i) == step_counter(i), xrange(1, 30000))\n"
   ]
  },
  {
   "cell_type": "code",
   "execution_count": null,
   "metadata": {},
   "outputs": [],
   "source": []
  }
 ],
 "metadata": {
  "kernelspec": {
   "display_name": "Python 2.7.13 ('Google')",
   "language": "python",
   "name": "python3"
  },
  "language_info": {
   "codemirror_mode": {
    "name": "ipython",
    "version": 2
   },
   "file_extension": ".py",
   "mimetype": "text/x-python",
   "name": "python",
   "nbconvert_exporter": "python",
   "pygments_lexer": "ipython2",
   "version": "2.7.13"
  },
  "orig_nbformat": 4,
  "vscode": {
   "interpreter": {
    "hash": "d62e7cced7d74a8bab4884f7a54ced0fc1f422e38a39fd34859db140bc2d17d7"
   }
  }
 },
 "nbformat": 4,
 "nbformat_minor": 2
}
