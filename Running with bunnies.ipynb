{
 "cells": [
  {
   "cell_type": "markdown",
   "metadata": {},
   "source": [
    "# Constraints\n",
    "\n",
    "- Time limit: integer 0<= T <= 999\n",
    "- Number of bunnies: integer 0? <= B <= 5\n",
    "- \n"
   ]
  },
  {
   "cell_type": "code",
   "execution_count": 115,
   "metadata": {},
   "outputs": [],
   "source": [
    "class Graph:\n",
    "    def __init__(self, matrix):\n",
    "        self.cost_matrix = matrix\n",
    "        self.n = len(matrix)\n",
    "        self.n_rabbits = self.n - 2\n",
    "        self.edges = [(i, j, self.cost_matrix[i][j]) for i in range(self.n) for j in range(self.n)]\n",
    "\n",
    "    def any_self_distance_negative(self):\n",
    "        for i in range(self.n):\n",
    "            if self.cost_matrix[i][i] < 0:\n",
    "                return True\n",
    "        return False\n",
    "\n",
    "    # Bellman-Ford algorithm\n",
    "    def BellmanFord(self, start_node):\n",
    "\n",
    "        # This implementation takes in a graph, represented as\n",
    "        # lists of vertices (represented as integers [0..n-1]) and edges,\n",
    "        # and fills two arrays (distance and predecessor) holding\n",
    "        # the shortest path from the source to each vertex\n",
    "\n",
    "        distance = [float(\"inf\")] * self.n\n",
    "        distance[start_node] = 0 # Even if the path to go to itself is not zero, you can just stay put\n",
    "        \n",
    "        # Step 2: relax edges repeatedly\n",
    "\n",
    "        for _ in range(len(self.edges) - 1):\n",
    "            for (u, v, weight) in self.edges:\n",
    "                if distance[u] + weight < distance[v]:\n",
    "                    distance[v] = distance[u] + weight\n",
    "\n",
    "        # Step 3: check for negative-weight cycles\n",
    "        for (u, v, weight) in self.edges:\n",
    "            if distance[u] + weight < distance[v]:\n",
    "                return \"Negative cycle\"\n",
    "\n",
    "        return [int(d) for d in distance]"
   ]
  },
  {
   "cell_type": "code",
   "execution_count": 117,
   "metadata": {},
   "outputs": [
    {
     "ename": "SyntaxError",
     "evalue": "'return' with argument inside generator (<ipython-input-117-a96d9614d61c>, line 38)",
     "output_type": "error",
     "traceback": [
      "\u001b[1;36m  File \u001b[1;32m\"<ipython-input-117-a96d9614d61c>\"\u001b[1;36m, line \u001b[1;32m38\u001b[0m\n\u001b[1;33m    yield path_list\u001b[0m\n\u001b[1;31mSyntaxError\u001b[0m\u001b[1;31m:\u001b[0m 'return' with argument inside generator\n"
     ]
    }
   ],
   "source": [
    "# depth first search\n",
    "def dfs(graph, distances, path_list, cumulative_time_to_path, cost_limit):\n",
    "    \"\"\"\n",
    "    Returns a list of paths that are valid starting from the given path with the given cumulative cost, and that end in the last node\n",
    "    \"\"\"\n",
    "    print(\"Entrado en dfs con path\", path_list, \"y coste acumulado\", cumulative_time_to_path)\n",
    "    \n",
    "    # if cumulative_time_to_path + distances[path_list[-1]][-1] > cost_limit:\n",
    "    #     print(\"Retorno vacío!!! - No debería pasar------------------------------------------------------------------\")\n",
    "    #     return []\n",
    "    \n",
    "    if path_list[-1] == graph.n - 1:\n",
    "        ret = path_list\n",
    "        print(\"Retorno path en salida temprana\", ret)\n",
    "        return ret\n",
    "    \n",
    "    list_possible_nodes = []\n",
    "    \n",
    "    for possible_node in range(graph.n):\n",
    "        if possible_node not in path_list and cumulative_time_to_path + distances[path_list[-1]][possible_node] + distances[possible_node][-1] <= cost_limit:\n",
    "            list_possible_nodes.append(possible_node)\n",
    "    \n",
    "    print(\"Lista de posible nodos: \", list_possible_nodes)\n",
    "    \n",
    "    # We precluded this from happening already\n",
    "    # if len(list_possible_nodes) == 0:\n",
    "    #     print(\"Devuelve solo el camino dado (nada mas posible) - FALLO ---------------------------------------------------\", path_list)\n",
    "    #     return path_list\n",
    "    \n",
    "    possible_paths = [path_list + [possible_node] for possible_node in list_possible_nodes]\n",
    "    possible_cumulative_times = [cumulative_time_to_path + distances[path_list[-1]][possible_node] for possible_node in list_possible_nodes]\n",
    "\n",
    "    print(\"Posibles caminos en lista\", possible_paths)\n",
    "    print(\"Posibles tiempos en lista\", possible_cumulative_times)\n",
    "    ret = [dfs(graph, distances, path, cum_path_cost, cost_limit) for path, cum_path_cost in zip(possible_paths, possible_cumulative_times)]\n",
    "    print(\"Retorno de dfs\", ret)\n",
    "    for path_list in ret:\n",
    "        yield path_list"
   ]
  },
  {
   "cell_type": "code",
   "execution_count": 118,
   "metadata": {},
   "outputs": [],
   "source": [
    "def solve(graph, time_limit):\n",
    "    if graph.any_self_distance_negative():\n",
    "        # all vertices can be reached as long as you go back in time long enough by just staying put\n",
    "        return [i for i in range(graph.n_rabbits)]\n",
    "    \n",
    "    distances = [graph.BellmanFord(i) for i in range(graph.n)] # distances[i][j] is the distance from i to j, minimised. Unless there is a negative cycle, so there's a \"Negative cycle\" string instead\n",
    "\n",
    "    print(\"Bellmand-Ford distances\", distances)\n",
    "    if any([d == \"Negative cycle\" for d in distances]):\n",
    "        return [i for i in range(graph.n_rabbits)]\n",
    "\n",
    "\n",
    "    cumulative_time_of_path = 0\n",
    "    path = [0]\n",
    "    paths = dfs(graph, distances, path, cumulative_time_of_path, time_limit)\n",
    "    print(\"paths = \", paths)\n",
    "    # Eliminate paths that are not valid\n",
    "    paths = [p for p in paths if p[-1] == graph.n - 1]\n",
    "    print(\"Eliminated empty paths = \", paths)\n",
    "    \n",
    "    def score(path):\n",
    "        \"\"\"Counts the number of rabbits that are visited. Assumes that no rabbit is visited twice\"\"\"\n",
    "        return sum([1 for i in range(1, graph.n - 1) if i in path])\n",
    "\n",
    "\n",
    "    paths_score = [score(path) for path in paths]\n",
    "    max_score_paths = [path for path, score in zip(paths, paths_score) if score == max(paths_score)]\n",
    "    return max_score_paths[0]\n",
    "\n",
    "\n",
    "    # for possible_node in range(graph.n):\n",
    "    #     # possible_node = distances.index(min(distances))\n",
    "    #     current_node = path[-1]\n",
    "    #     distance_to_possible = distances[path[-1]][possible_node]\n",
    "    #     distace_possible_to_end = distances[possible_node][-1]\n",
    "\n",
    "    #     if cumulative_time_of_path + distance_to_possible + distace_possible_to_end <= time_limit:\n",
    "    #         path.append(possible_node)\n",
    "    #         cumulative_time_of_path += distance_to_possible\n",
    "    #         yield possible_paths()\n",
    "    #     else:\n",
    "    #         yield path\n",
    "\n",
    "    # # paths = possible_paths()\n",
    "    # if paths == []:\n",
    "    #     return None\n",
    "    # else:\n",
    "    #     return max(paths, key= lambda v: (1 in v) + (2 in v) + (3 in v) + (4 in v)  + (5 in v))\n",
    "    #     # no tener en cuenta el último nodo, que es el de la meta"
   ]
  },
  {
   "cell_type": "code",
   "execution_count": 119,
   "metadata": {},
   "outputs": [],
   "source": [
    "def solution(times, time_limit):\n",
    "    graph = Graph(times)\n",
    "    return solve(graph, time_limit)\n",
    "    "
   ]
  },
  {
   "cell_type": "code",
   "execution_count": 120,
   "metadata": {},
   "outputs": [
    {
     "name": "stdout",
     "output_type": "stream",
     "text": [
      "('Bellmand-Ford distances', [[0, 2, 1, 1, -1], [8, 0, 1, 1, -1], [8, 2, 0, 1, -1], [8, 2, 1, 0, -1], [9, 3, 2, 2, 0]])\n",
      "('Entrado en dfs con path', [0], 'y coste acumulado', 0)\n",
      "('Lista de posible nodos: ', [1, 2, 3, 4])\n",
      "('Posibles caminos en lista', [[0, 1], [0, 2], [0, 3], [0, 4]])\n",
      "('Posibles tiempos en lista', [2, 1, 1, -1])\n",
      "('Entrado en dfs con path', [0, 1], 'y coste acumulado', 2)\n",
      "('Lista de posible nodos: ', [4])\n",
      "('Posibles caminos en lista', [[0, 1, 4]])\n",
      "('Posibles tiempos en lista', [1])\n",
      "('Entrado en dfs con path', [0, 1, 4], 'y coste acumulado', 1)\n",
      "('Retorno path en salida temprana', [0, 1, 4])\n",
      "('Retorno de dfs', [[0, 1, 4]])\n",
      "('Entrado en dfs con path', [0, 2], 'y coste acumulado', 1)\n",
      "('Lista de posible nodos: ', [3, 4])\n",
      "('Posibles caminos en lista', [[0, 2, 3], [0, 2, 4]])\n",
      "('Posibles tiempos en lista', [2, 0])\n",
      "('Entrado en dfs con path', [0, 2, 3], 'y coste acumulado', 2)\n",
      "('Lista de posible nodos: ', [4])\n",
      "('Posibles caminos en lista', [[0, 2, 3, 4]])\n",
      "('Posibles tiempos en lista', [1])\n",
      "('Entrado en dfs con path', [0, 2, 3, 4], 'y coste acumulado', 1)\n",
      "('Retorno path en salida temprana', [0, 2, 3, 4])\n",
      "('Retorno de dfs', [[0, 2, 3, 4]])\n",
      "('Entrado en dfs con path', [0, 2, 4], 'y coste acumulado', 0)\n",
      "('Retorno path en salida temprana', [0, 2, 4])\n",
      "('Retorno de dfs', [[[0, 2, 3, 4]], [0, 2, 4]])\n",
      "('Entrado en dfs con path', [0, 3], 'y coste acumulado', 1)\n",
      "('Lista de posible nodos: ', [2, 4])\n",
      "('Posibles caminos en lista', [[0, 3, 2], [0, 3, 4]])\n",
      "('Posibles tiempos en lista', [2, 0])\n",
      "('Entrado en dfs con path', [0, 3, 2], 'y coste acumulado', 2)\n",
      "('Lista de posible nodos: ', [4])\n",
      "('Posibles caminos en lista', [[0, 3, 2, 4]])\n",
      "('Posibles tiempos en lista', [1])\n",
      "('Entrado en dfs con path', [0, 3, 2, 4], 'y coste acumulado', 1)\n",
      "('Retorno path en salida temprana', [0, 3, 2, 4])\n",
      "('Retorno de dfs', [[0, 3, 2, 4]])\n",
      "('Entrado en dfs con path', [0, 3, 4], 'y coste acumulado', 0)\n",
      "('Retorno path en salida temprana', [0, 3, 4])\n",
      "('Retorno de dfs', [[[0, 3, 2, 4]], [0, 3, 4]])\n",
      "('Entrado en dfs con path', [0, 4], 'y coste acumulado', -1)\n",
      "('Retorno path en salida temprana', [0, 4])\n",
      "('Retorno de dfs', [[[0, 1, 4]], [[[0, 2, 3, 4]], [0, 2, 4]], [[[0, 3, 2, 4]], [0, 3, 4]], [0, 4]])\n",
      "('paths = ', [[[0, 1, 4]], [[[0, 2, 3, 4]], [0, 2, 4]], [[[0, 3, 2, 4]], [0, 3, 4]], [0, 4]])\n",
      "('Eliminated empty paths = ', [[0, 4]])\n"
     ]
    },
    {
     "data": {
      "text/plain": [
       "[0, 4]"
      ]
     },
     "execution_count": 120,
     "metadata": {},
     "output_type": "execute_result"
    }
   ],
   "source": [
    "# testing\n",
    "solution([[0, 2, 2, 2, -1], [9, 0, 2, 2, -1], [9, 3, 0, 2, -1], [9, 3, 2, 0, -1], [9, 3, 2, 2, 0]], 1)"
   ]
  },
  {
   "cell_type": "code",
   "execution_count": null,
   "metadata": {},
   "outputs": [],
   "source": []
  }
 ],
 "metadata": {
  "kernelspec": {
   "display_name": "Python 2.7.13 ('Google')",
   "language": "python",
   "name": "python3"
  },
  "language_info": {
   "codemirror_mode": {
    "name": "ipython",
    "version": 2
   },
   "file_extension": ".py",
   "mimetype": "text/x-python",
   "name": "python",
   "nbconvert_exporter": "python",
   "pygments_lexer": "ipython2",
   "version": "2.7.13"
  },
  "orig_nbformat": 4,
  "vscode": {
   "interpreter": {
    "hash": "d62e7cced7d74a8bab4884f7a54ced0fc1f422e38a39fd34859db140bc2d17d7"
   }
  }
 },
 "nbformat": 4,
 "nbformat_minor": 2
}
