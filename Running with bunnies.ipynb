{
 "cells": [
  {
   "cell_type": "markdown",
   "metadata": {},
   "source": [
    "# Constraints\n",
    "\n",
    "- Time limit: integer 0<= T <= 999\n",
    "- Number of bunnies: integer 0? <= B <= 5"
   ]
  },
  {
   "cell_type": "code",
   "execution_count": 3,
   "metadata": {},
   "outputs": [],
   "source": [
    "class Graph:\n",
    "    def __init__(self, matrix):\n",
    "        self.cost_matrix = matrix\n",
    "        self.n = len(matrix)\n",
    "        self.n_rabbits = self.n - 2\n",
    "        self.edges = [(i, j, self.cost_matrix[i][j]) for i in range(self.n) for j in range(self.n)]\n",
    "\n",
    "    def any_self_distance_negative(self):\n",
    "        for i in range(self.n):\n",
    "            if self.cost_matrix[i][i] < 0:\n",
    "                return True\n",
    "        return False\n",
    "\n",
    "    # Bellman-Ford algorithm\n",
    "    def BellmanFord(self, start_node):\n",
    "        distance = [float(\"inf\")] * self.n\n",
    "        distance[start_node] = 0 # Even if the path to go to itself is not zero, you can just stay put\n",
    "\n",
    "        for _ in range(len(self.edges) - 1):\n",
    "            for (u, v, weight) in self.edges:\n",
    "                if distance[u] + weight < distance[v]:\n",
    "                    distance[v] = distance[u] + weight\n",
    "\n",
    "        # check for negative-weight cycles\n",
    "        for (u, v, weight) in self.edges:\n",
    "            if distance[u] + weight < distance[v]:\n",
    "                return \"Negative cycle\"\n",
    "\n",
    "        return [int(d) for d in distance]"
   ]
  },
  {
   "cell_type": "code",
   "execution_count": 4,
   "metadata": {},
   "outputs": [],
   "source": [
    "# depth first search\n",
    "def possible_paths(graph, distances, path_list, cumulative_time_to_path, cost_limit):\n",
    "    \"\"\"\n",
    "    Returns a list of paths that are valid starting from the given path with the given cumulative cost, and that end in the last node.\n",
    "    \"\"\"\n",
    "    if path_list[-1] == graph.n - 1:\n",
    "        # For homogeneity of return type (list of paths)\n",
    "        return [path_list]\n",
    "    \n",
    "    list_possible_nodes = []\n",
    "    \n",
    "    # Similar idea to A*, I guess. We need to take into account the distance to the end node\n",
    "    for possible_node in range(graph.n):\n",
    "        if possible_node not in path_list and cumulative_time_to_path + distances[path_list[-1]][possible_node] + distances[possible_node][-1] <= cost_limit:\n",
    "            list_possible_nodes.append(possible_node)\n",
    "    \n",
    "    pos_paths = [path_list + [possible_node] for possible_node in list_possible_nodes]\n",
    "    possible_cumulative_times = [cumulative_time_to_path + distances[path_list[-1]][possible_node] for possible_node in list_possible_nodes]\n",
    "\n",
    "    ret = [possible_paths(graph, distances, path, cum_path_cost, cost_limit) for path, cum_path_cost in zip(pos_paths, possible_cumulative_times)]\n",
    "    # unnest once\n",
    "    return [item for sublist in ret for item in sublist]"
   ]
  },
  {
   "cell_type": "code",
   "execution_count": 5,
   "metadata": {},
   "outputs": [],
   "source": [
    "def max_score_paths(graph, time_limit):\n",
    "    \"\"\"\n",
    "    Returns a list with the paths with the maximum number of bunnies that can be saved in the given time limit.\n",
    "    \"\"\"\n",
    "    if graph.any_self_distance_negative():\n",
    "        # all vertices can be reached as long as you go back in time long enough\n",
    "        return \"All\"\n",
    "    \n",
    "    distances = [graph.BellmanFord(i) for i in range(graph.n)]\n",
    "\n",
    "    if any([d == \"Negative cycle\" for d in distances]):\n",
    "        return \"All\" # I would much rather use Results like in Rust than keep using flag return values for this, yes\n",
    "\n",
    "    cumulative_time_of_path = 0\n",
    "    path = [0]\n",
    "    paths = possible_paths(graph, distances, path, cumulative_time_of_path, time_limit)\n",
    "    \n",
    "    paths = [p for p in paths if p[-1] == graph.n - 1]\n",
    "    \n",
    "    def score(path):\n",
    "        \"\"\"Counts the number of rabbits that are visited.\"\"\"\n",
    "        return sum([1 for i in range(1, graph.n - 1) if i in path])\n",
    "\n",
    "\n",
    "    paths_score = [score(path) for path in paths]\n",
    "    max_score_paths = tuple(path for path, score in zip(paths, paths_score) if score == max(paths_score))\n",
    "    \n",
    "    return max_score_paths"
   ]
  },
  {
   "cell_type": "code",
   "execution_count": 6,
   "metadata": {},
   "outputs": [],
   "source": [
    "def solution(times, time_limit):\n",
    "    graph = Graph(times)\n",
    "    paths = max_score_paths(graph, time_limit)\n",
    "    if paths == \"All\":\n",
    "        return [i for i in range(graph.n_rabbits)]\n",
    "    bunny_list_of_each_path = [[index - 1 for index in path[1:-1]] for path in paths]\n",
    "    bunny_list_of_each_path = [set(tuple(bunny_list)) for bunny_list in bunny_list_of_each_path]\n",
    "\n",
    "    definitive_list = []\n",
    "    for bunny in range(graph.n_rabbits):\n",
    "        if any([bunny in path for path in bunny_list_of_each_path]):\n",
    "            definitive_list.append(bunny)\n",
    "            bunny_list_of_each_path = [path for path in bunny_list_of_each_path if bunny in path]\n",
    "    return definitive_list"
   ]
  },
  {
   "cell_type": "code",
   "execution_count": 7,
   "metadata": {},
   "outputs": [
    {
     "name": "stdout",
     "output_type": "stream",
     "text": [
      "[1, 2]\n",
      "[0, 1]\n"
     ]
    }
   ],
   "source": [
    "# testing\n",
    "print(solution([[0, 2, 2, 2, -1], [9, 0, 2, 2, -1], [9, 3, 0, 2, -1], [9, 3, 2, 0, -1], [9, 3, 2, 2, 0]], 1)) # [1,2]\n",
    "print(solution([[0, 1, 1, 1, 1], [1, 0, 1, 1, 1], [1, 1, 0, 1, 1], [1, 1, 1, 0, 1], [1, 1, 1, 1, 0]], 3)    ) # [0,1]"
   ]
  }
 ],
 "metadata": {
  "kernelspec": {
   "display_name": "Python 2.7.13 ('Google')",
   "language": "python",
   "name": "python3"
  },
  "language_info": {
   "codemirror_mode": {
    "name": "ipython",
    "version": 2
   },
   "file_extension": ".py",
   "mimetype": "text/x-python",
   "name": "python",
   "nbconvert_exporter": "python",
   "pygments_lexer": "ipython2",
   "version": "2.7.13"
  },
  "orig_nbformat": 4,
  "vscode": {
   "interpreter": {
    "hash": "d62e7cced7d74a8bab4884f7a54ced0fc1f422e38a39fd34859db140bc2d17d7"
   }
  }
 },
 "nbformat": 4,
 "nbformat_minor": 2
}
