{
 "cells": [
  {
   "cell_type": "markdown",
   "metadata": {},
   "source": [
    "In short, you have M, F >= 0, and at each generation, either M, F = M + F, F or M, F = M, F + M. \n",
    "Alternatively, we want to get to the node to 1, 1 from M, F.\n",
    "To do that, we need to find the number of steps it takes to get to 1, 1 from M, F.\n"
   ]
  },
  {
   "cell_type": "code",
   "execution_count": 13,
   "metadata": {},
   "outputs": [],
   "source": [
    "# and so we implement it\n",
    "def sol(M, F):\n",
    "    return solution1(M, F, 0)\n",
    "def solution1(M, F, c):\n",
    "    ordered = True if M <= F else False\n",
    "    M1, F1 =  (M, F - M) if ordered else (M - F, F)\n",
    "    return solution1(M1, F1, c + 1) if M > 1 or F > 1 else c"
   ]
  },
  {
   "cell_type": "code",
   "execution_count": 14,
   "metadata": {},
   "outputs": [
    {
     "name": "stdout",
     "output_type": "stream",
     "text": [
      "0\n",
      "1\n",
      "4\n"
     ]
    }
   ],
   "source": [
    "print solution(1, 1)\n",
    "print solution(2, 1)\n",
    "print solution(4, 7)"
   ]
  },
  {
   "cell_type": "code",
   "execution_count": 69,
   "metadata": {},
   "outputs": [],
   "source": [
    "# we run backwards from (M, F) to (1, 1)\n",
    "# notice that M < F => M - F < 0, hence we can ignore that branch and keep to the other: (M, F - M)\n",
    "# likewise,   F < M => F - M < 0, hence we can ignore that branch and keep to the other: (M - F, F)\n",
    "# so we only have to consider the cases:\n",
    "# M == F, M > F -> (M - F, F), F > M -> (M, F - M)\n",
    "# also, we can optimize when multiple substraction in succesion are needed by doing integer division\n",
    "# this requires care in the case F and M are divisible by each other, in which case we do not\n",
    "# leave zero, but instead the divisor, which results in eg (1,1), (M, M) or (F, F)\n",
    "def solution(M, F):\n",
    "    M, F = int(M), int(F)\n",
    "    c = 0\n",
    "    while max(M, F) > 1 and min(M, F) >= 1 and M != F:\n",
    "        ordered = True if M <= F else False\n",
    "        q = F // M if ordered else M // F\n",
    "        multiples = F % M == 0 or M % F == 0\n",
    "        if multiples:\n",
    "            q -= 1\n",
    "        M, F =  (M, F % M if not multiples else M) if ordered else (M % F  if not multiples else F, F)\n",
    "        c += q\n",
    "    return str(c) if M == 1 and F == 1 else \"impossible\""
   ]
  },
  {
   "cell_type": "code",
   "execution_count": 70,
   "metadata": {},
   "outputs": [
    {
     "name": "stdout",
     "output_type": "stream",
     "text": [
      "0\n",
      "1\n",
      "impossible\n",
      "4\n",
      "8\n"
     ]
    }
   ],
   "source": [
    "print solution(\"1\", \"1\")\n",
    "print solution(\"2\", \"1\")\n",
    "print solution(\"2\", \"10\")\n",
    "print solution(\"4\", \"7\")\n",
    "print solution(\"20\", \"3\")"
   ]
  },
  {
   "cell_type": "code",
   "execution_count": 65,
   "metadata": {},
   "outputs": [],
   "source": [
    "def solution(M, F):\n",
    "    M, F = int(M), int(F)\n",
    "    c = 0\n",
    "    while max(M, F) > 1 and min(M, F) >= 1:\n",
    "        ordered = True if M <= F else False\n",
    "        M, F =  (M, F - M) if ordered else (M - F, F)\n",
    "        c += 1\n",
    "    return str(c) if M == 1 and F == 1 else \"impossible\""
   ]
  },
  {
   "cell_type": "code",
   "execution_count": 46,
   "metadata": {},
   "outputs": [
    {
     "data": {
      "text/plain": [
       "0"
      ]
     },
     "execution_count": 46,
     "metadata": {},
     "output_type": "execute_result"
    }
   ],
   "source": [
    "2//3"
   ]
  },
  {
   "cell_type": "code",
   "execution_count": null,
   "metadata": {},
   "outputs": [],
   "source": []
  }
 ],
 "metadata": {
  "kernelspec": {
   "display_name": "Python 2.7.13 ('Google')",
   "language": "python",
   "name": "python3"
  },
  "language_info": {
   "codemirror_mode": {
    "name": "ipython",
    "version": 2
   },
   "file_extension": ".py",
   "mimetype": "text/x-python",
   "name": "python",
   "nbconvert_exporter": "python",
   "pygments_lexer": "ipython2",
   "version": "2.7.13"
  },
  "orig_nbformat": 4,
  "vscode": {
   "interpreter": {
    "hash": "d62e7cced7d74a8bab4884f7a54ced0fc1f422e38a39fd34859db140bc2d17d7"
   }
  }
 },
 "nbformat": 4,
 "nbformat_minor": 2
}
