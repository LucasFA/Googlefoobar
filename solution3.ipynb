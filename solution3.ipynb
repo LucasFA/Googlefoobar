{
 "cells": [
  {
   "cell_type": "markdown",
   "metadata": {},
   "source": [
    "In short, you have M, F >= 0, and at each generation, either M, F = M + F, F or M, F = M, F + M. \n",
    "Alternatively, we want to get to the node to 1, 1 from M, F.\n",
    "To do that, we need to find the number of steps it takes to get to 1, 1 from M, F.\n"
   ]
  },
  {
   "cell_type": "code",
   "execution_count": 13,
   "metadata": {},
   "outputs": [],
   "source": [
    "# and so we implement it\n",
    "def sol(M, F):\n",
    "    return solution1(M, F, 0)\n",
    "def solution1(M, F, c):\n",
    "    ordered = True if M <= F else False\n",
    "    M1, F1 =  (M, F - M) if ordered else (M - F, F)\n",
    "    return solution1(M1, F1, c + 1) if M > 1 or F > 1 else c"
   ]
  },
  {
   "cell_type": "code",
   "execution_count": 14,
   "metadata": {},
   "outputs": [
    {
     "name": "stdout",
     "output_type": "stream",
     "text": [
      "0\n",
      "1\n",
      "4\n"
     ]
    }
   ],
   "source": [
    "print solution(1, 1)\n",
    "print solution(2, 1)\n",
    "print solution(4, 7)"
   ]
  },
  {
   "cell_type": "code",
   "execution_count": 61,
   "metadata": {},
   "outputs": [],
   "source": [
    "# we run backwards from (M, F) to (1, 1)\n",
    "# notice that M < F => M - F < 0, hence we can ignore that branch and keep to the other: (M, F - M)\n",
    "# likewise,   F < M => F - M < 0, hence we can ignore that branch and keep to the other: (M - F, F)\n",
    "# so we only have to consider the cases:\n",
    "# M == F, M > F -> (M - F, F), F > M -> (M, F - M)\n",
    "# also, we can optimize when multiple substraction in succesion are needed by doing integer division\n",
    "# this requires care in the case F and M are divisible by each other, in which case we do not\n",
    "# leave zero, but instead the divisor, which results in eg (1,1), (M, M) or (F, F)\n",
    "def solution(M, F):\n",
    "    M, F = int(M), int(F)\n",
    "    c = 0\n",
    "    while max(M, F) > 1 and min(M, F) >= 1:\n",
    "        ordered = True if M <= F else False\n",
    "        q = F // M if ordered else M // F\n",
    "        multiples = F % M == 0 or M % F == 0\n",
    "        if multiples:\n",
    "            q -= 1\n",
    "        M, F =  (M, F % M if not multiples else M) if ordered else (M % F  if not multiples else F, F)\n",
    "        c += q\n",
    "    return str(c) if M == 1 and F == 1 else \"impossible\""
   ]
  },
  {
   "cell_type": "code",
   "execution_count": 64,
   "metadata": {},
   "outputs": [
    {
     "name": "stdout",
     "output_type": "stream",
     "text": [
      "0\n",
      "1\n"
     ]
    },
    {
     "ename": "KeyboardInterrupt",
     "evalue": "",
     "output_type": "error",
     "traceback": [
      "\u001b[1;31m\u001b[0m",
      "\u001b[1;31mKeyboardInterrupt\u001b[0mTraceback (most recent call last)",
      "\u001b[1;32m<ipython-input-64-1553d28b56b8>\u001b[0m in \u001b[0;36m<module>\u001b[1;34m()\u001b[0m\n\u001b[0;32m      1\u001b[0m \u001b[1;32mprint\u001b[0m \u001b[0msolution\u001b[0m\u001b[1;33m(\u001b[0m\u001b[1;34m\"1\"\u001b[0m\u001b[1;33m,\u001b[0m \u001b[1;34m\"1\"\u001b[0m\u001b[1;33m)\u001b[0m\u001b[1;33m\u001b[0m\u001b[0m\n\u001b[0;32m      2\u001b[0m \u001b[1;32mprint\u001b[0m \u001b[0msolution\u001b[0m\u001b[1;33m(\u001b[0m\u001b[1;34m\"2\"\u001b[0m\u001b[1;33m,\u001b[0m \u001b[1;34m\"1\"\u001b[0m\u001b[1;33m)\u001b[0m\u001b[1;33m\u001b[0m\u001b[0m\n\u001b[1;32m----> 3\u001b[1;33m \u001b[1;32mprint\u001b[0m \u001b[0msolution\u001b[0m\u001b[1;33m(\u001b[0m\u001b[1;34m\"2\"\u001b[0m\u001b[1;33m,\u001b[0m \u001b[1;34m\"10\"\u001b[0m\u001b[1;33m)\u001b[0m\u001b[1;33m\u001b[0m\u001b[0m\n\u001b[0m\u001b[0;32m      4\u001b[0m \u001b[1;32mprint\u001b[0m \u001b[0msolution\u001b[0m\u001b[1;33m(\u001b[0m\u001b[1;34m\"4\"\u001b[0m\u001b[1;33m,\u001b[0m \u001b[1;34m\"7\"\u001b[0m\u001b[1;33m)\u001b[0m\u001b[1;33m\u001b[0m\u001b[0m\n\u001b[0;32m      5\u001b[0m \u001b[1;32mprint\u001b[0m \u001b[0msolution\u001b[0m\u001b[1;33m(\u001b[0m\u001b[1;34m\"20\"\u001b[0m\u001b[1;33m,\u001b[0m \u001b[1;34m\"3\"\u001b[0m\u001b[1;33m)\u001b[0m\u001b[1;33m\u001b[0m\u001b[0m\n",
      "\u001b[1;32m<ipython-input-61-dcb28d327195>\u001b[0m in \u001b[0;36msolution\u001b[1;34m(M, F)\u001b[0m\n\u001b[0;32m     13\u001b[0m         \u001b[0mordered\u001b[0m \u001b[1;33m=\u001b[0m \u001b[0mTrue\u001b[0m \u001b[1;32mif\u001b[0m \u001b[0mM\u001b[0m \u001b[1;33m<=\u001b[0m \u001b[0mF\u001b[0m \u001b[1;32melse\u001b[0m \u001b[0mFalse\u001b[0m\u001b[1;33m\u001b[0m\u001b[0m\n\u001b[0;32m     14\u001b[0m         \u001b[0mq\u001b[0m \u001b[1;33m=\u001b[0m \u001b[0mF\u001b[0m \u001b[1;33m//\u001b[0m \u001b[0mM\u001b[0m \u001b[1;32mif\u001b[0m \u001b[0mordered\u001b[0m \u001b[1;32melse\u001b[0m \u001b[0mM\u001b[0m \u001b[1;33m//\u001b[0m \u001b[0mF\u001b[0m\u001b[1;33m\u001b[0m\u001b[0m\n\u001b[1;32m---> 15\u001b[1;33m         \u001b[0mmultiples\u001b[0m \u001b[1;33m=\u001b[0m \u001b[0mF\u001b[0m \u001b[1;33m%\u001b[0m \u001b[0mM\u001b[0m \u001b[1;33m==\u001b[0m \u001b[1;36m0\u001b[0m \u001b[1;32mor\u001b[0m \u001b[0mM\u001b[0m \u001b[1;33m%\u001b[0m \u001b[0mF\u001b[0m \u001b[1;33m==\u001b[0m \u001b[1;36m0\u001b[0m\u001b[1;33m\u001b[0m\u001b[0m\n\u001b[0m\u001b[0;32m     16\u001b[0m         \u001b[1;32mif\u001b[0m \u001b[0mmultiples\u001b[0m\u001b[1;33m:\u001b[0m\u001b[1;33m\u001b[0m\u001b[0m\n\u001b[0;32m     17\u001b[0m             \u001b[0mq\u001b[0m \u001b[1;33m-=\u001b[0m \u001b[1;36m1\u001b[0m\u001b[1;33m\u001b[0m\u001b[0m\n",
      "\u001b[1;31mKeyboardInterrupt\u001b[0m: "
     ]
    }
   ],
   "source": [
    "print solution(\"1\", \"1\")\n",
    "print solution(\"2\", \"1\")\n",
    "print solution(\"2\", \"10\")\n",
    "print solution(\"4\", \"7\")\n",
    "print solution(\"20\", \"3\")"
   ]
  },
  {
   "cell_type": "code",
   "execution_count": 49,
   "metadata": {},
   "outputs": [],
   "source": [
    "def solution(M, F):\n",
    "    M, F = int(M), int(F)\n",
    "    c = 0\n",
    "    while max(M, F) > 1 and min(M, F) >= 1:\n",
    "        ordered = True if M <= F else False\n",
    "        q = F // M if ordered else M // F\n",
    "        M, F =  (M, F - q * M) if ordered else (M - q * F, F)\n",
    "        c += q\n",
    "    return str(c) if M == 1 and F == 1 else \"impossible\""
   ]
  },
  {
   "cell_type": "code",
   "execution_count": 46,
   "metadata": {},
   "outputs": [
    {
     "data": {
      "text/plain": [
       "0"
      ]
     },
     "execution_count": 46,
     "metadata": {},
     "output_type": "execute_result"
    }
   ],
   "source": [
    "2//3"
   ]
  },
  {
   "cell_type": "code",
   "execution_count": null,
   "metadata": {},
   "outputs": [],
   "source": []
  }
 ],
 "metadata": {
  "kernelspec": {
   "display_name": "Python 2.7.13 ('Google')",
   "language": "python",
   "name": "python3"
  },
  "language_info": {
   "codemirror_mode": {
    "name": "ipython",
    "version": 2
   },
   "file_extension": ".py",
   "mimetype": "text/x-python",
   "name": "python",
   "nbconvert_exporter": "python",
   "pygments_lexer": "ipython2",
   "version": "2.7.13"
  },
  "orig_nbformat": 4,
  "vscode": {
   "interpreter": {
    "hash": "d62e7cced7d74a8bab4884f7a54ced0fc1f422e38a39fd34859db140bc2d17d7"
   }
  }
 },
 "nbformat": 4,
 "nbformat_minor": 2
}
