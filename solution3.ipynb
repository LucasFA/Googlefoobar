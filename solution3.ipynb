{
 "cells": [
  {
   "cell_type": "code",
   "execution_count": 12,
   "metadata": {},
   "outputs": [],
   "source": [
    "class PerfectBinaryTree:\n",
    "    def __init__(self, h):\n",
    "        self.data = None\n",
    "        self.parent = None\n",
    "        if h > 1:\n",
    "            self.left = PerfectBinaryTree(h - 1)\n",
    "            self.right = PerfectBinaryTree(h - 1)\n",
    "            self.left.parent = self.right.parent = self\n",
    "        else:\n",
    "            self.left = self.right = None\n",
    "\n",
    "    def post_order_iter(self):\n",
    "        if self is None:\n",
    "            yield None\n",
    "        if self.left is not None:\n",
    "            for x in self.left.post_order_iter():\n",
    "                yield x\n",
    "        if self.right is not None:\n",
    "            for x in self.right.post_order_iter():\n",
    "                yield x\n",
    "        yield self\n",
    "    def printTree(self):\n",
    "        if self.left:\n",
    "            self.left.printTree()\n",
    "        if self.right:\n",
    "            self.right.printTree()\n",
    "        print(self.data)"
   ]
  },
  {
   "cell_type": "code",
   "execution_count": 13,
   "metadata": {},
   "outputs": [
    {
     "name": "stdout",
     "output_type": "stream",
     "text": [
      "1\n"
     ]
    }
   ],
   "source": [
    "a = PerfectBinaryTree(1)\n",
    "for i, node in enumerate(a.post_order_iter(), 1):\n",
    "    node.data = i\n",
    "a.printTree()"
   ]
  },
  {
   "cell_type": "code",
   "execution_count": 14,
   "metadata": {},
   "outputs": [],
   "source": [
    "def solution(h, q):\n",
    "    tree = PerfectBinaryTree(h)\n",
    "    for i, node in enumerate(tree.post_order_iter(), 1):\n",
    "        node.data = i\n",
    "\n",
    "    out = [None for _ in range(len(q))]\n",
    "    q = {num: idx for idx, num in enumerate(q)} # should in principle be more performant for large q\n",
    "    # listed_nodes = filter(lambda node: node.data in q, tree.post_order_iter())\n",
    "    for node in tree.post_order_iter():\n",
    "        try:\n",
    "            pos = q[node.data]\n",
    "        except KeyError:\n",
    "            continue\n",
    "        above = node.parent\n",
    "        out[pos] = above.data if above is not None else -1\n",
    "\n",
    "    return out"
   ]
  },
  {
   "cell_type": "code",
   "execution_count": 15,
   "metadata": {},
   "outputs": [
    {
     "name": "stdout",
     "output_type": "stream",
     "text": [
      "[3, 6, -1]\n",
      "[-1, 7, 6, 3]\n",
      "[21, 15, 29]\n"
     ]
    }
   ],
   "source": [
    "print(solution(3, [1,4,7]))\n",
    "print(solution(3, [7,3,5,1]))\n",
    "print(solution(5, [19,14,28]))"
   ]
  },
  {
   "cell_type": "code",
   "execution_count": null,
   "metadata": {},
   "outputs": [],
   "source": []
  }
 ],
 "metadata": {
  "kernelspec": {
   "display_name": "Python 2.7.13 ('Google')",
   "language": "python",
   "name": "python3"
  },
  "language_info": {
   "codemirror_mode": {
    "name": "ipython",
    "version": 2
   },
   "file_extension": ".py",
   "mimetype": "text/x-python",
   "name": "python",
   "nbconvert_exporter": "python",
   "pygments_lexer": "ipython2",
   "version": "2.7.13"
  },
  "orig_nbformat": 4,
  "vscode": {
   "interpreter": {
    "hash": "d62e7cced7d74a8bab4884f7a54ced0fc1f422e38a39fd34859db140bc2d17d7"
   }
  }
 },
 "nbformat": 4,
 "nbformat_minor": 2
}
